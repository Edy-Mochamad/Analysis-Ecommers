{
 "cells": [
  {
   "cell_type": "code",
   "execution_count": 1,
   "metadata": {},
   "outputs": [
    {
     "name": "stdout",
     "output_type": "stream",
     "text": [
      "Python 3.10.8\n"
     ]
    }
   ],
   "source": [
    "!python --version"
   ]
  },
  {
   "cell_type": "code",
   "execution_count": 2,
   "metadata": {},
   "outputs": [],
   "source": [
    "import pandas as pd\n",
    "import numpy as np\n",
    "import matplotlib.pyplot as plt\n",
    "import warnings\n",
    "warnings.filterwarnings('ignore')"
   ]
  },
  {
   "cell_type": "markdown",
   "metadata": {},
   "source": [
    "Import data frame and Show Top 5 rows of dataset."
   ]
  },
  {
   "cell_type": "code",
   "execution_count": 3,
   "metadata": {},
   "outputs": [
    {
     "data": {
      "text/html": [
       "<div>\n",
       "<style scoped>\n",
       "    .dataframe tbody tr th:only-of-type {\n",
       "        vertical-align: middle;\n",
       "    }\n",
       "\n",
       "    .dataframe tbody tr th {\n",
       "        vertical-align: top;\n",
       "    }\n",
       "\n",
       "    .dataframe thead th {\n",
       "        text-align: right;\n",
       "    }\n",
       "</style>\n",
       "<table border=\"1\" class=\"dataframe\">\n",
       "  <thead>\n",
       "    <tr style=\"text-align: right;\">\n",
       "      <th></th>\n",
       "      <th>transaction_id</th>\n",
       "      <th>store</th>\n",
       "      <th>customer_id</th>\n",
       "      <th>customer_city</th>\n",
       "      <th>customer_gender</th>\n",
       "      <th>product_id</th>\n",
       "      <th>product_price</th>\n",
       "      <th>quantity</th>\n",
       "      <th>total</th>\n",
       "      <th>created_at</th>\n",
       "    </tr>\n",
       "  </thead>\n",
       "  <tbody>\n",
       "    <tr>\n",
       "      <th>0</th>\n",
       "      <td>169483</td>\n",
       "      <td>Ofline store</td>\n",
       "      <td>300726</td>\n",
       "      <td>Jakarta</td>\n",
       "      <td>Male</td>\n",
       "      <td>34</td>\n",
       "      <td>1088</td>\n",
       "      <td>64</td>\n",
       "      <td>69632</td>\n",
       "      <td>2018-07-06 18:02:28.000000 UTC</td>\n",
       "    </tr>\n",
       "    <tr>\n",
       "      <th>1</th>\n",
       "      <td>262286</td>\n",
       "      <td>Ofline store</td>\n",
       "      <td>186646</td>\n",
       "      <td>Tangerang</td>\n",
       "      <td>Male</td>\n",
       "      <td>34</td>\n",
       "      <td>1088</td>\n",
       "      <td>64</td>\n",
       "      <td>69632</td>\n",
       "      <td>2018-08-27 17:07:31.000000 UTC</td>\n",
       "    </tr>\n",
       "    <tr>\n",
       "      <th>2</th>\n",
       "      <td>338083</td>\n",
       "      <td>Ofline store</td>\n",
       "      <td>257168</td>\n",
       "      <td>Depok</td>\n",
       "      <td>Female</td>\n",
       "      <td>34</td>\n",
       "      <td>1088</td>\n",
       "      <td>64</td>\n",
       "      <td>69632</td>\n",
       "      <td>2018-09-28 14:50:06.000000 UTC</td>\n",
       "    </tr>\n",
       "    <tr>\n",
       "      <th>3</th>\n",
       "      <td>311059</td>\n",
       "      <td>Ofline store</td>\n",
       "      <td>190587</td>\n",
       "      <td>Depok</td>\n",
       "      <td>Male</td>\n",
       "      <td>34</td>\n",
       "      <td>1088</td>\n",
       "      <td>4</td>\n",
       "      <td>4352</td>\n",
       "      <td>2018-09-17 16:21:23.000000 UTC</td>\n",
       "    </tr>\n",
       "    <tr>\n",
       "      <th>4</th>\n",
       "      <td>456382</td>\n",
       "      <td>Ofline store</td>\n",
       "      <td>314798</td>\n",
       "      <td>Depok</td>\n",
       "      <td>Male</td>\n",
       "      <td>34</td>\n",
       "      <td>1088</td>\n",
       "      <td>4</td>\n",
       "      <td>4352</td>\n",
       "      <td>2018-10-31 18:20:07.000000 UTC</td>\n",
       "    </tr>\n",
       "  </tbody>\n",
       "</table>\n",
       "</div>"
      ],
      "text/plain": [
       "   transaction_id         store  customer_id customer_city customer_gender  \\\n",
       "0          169483  Ofline store       300726       Jakarta            Male   \n",
       "1          262286  Ofline store       186646     Tangerang            Male   \n",
       "2          338083  Ofline store       257168         Depok          Female   \n",
       "3          311059  Ofline store       190587         Depok            Male   \n",
       "4          456382  Ofline store       314798         Depok            Male   \n",
       "\n",
       "   product_id  product_price  quantity  total                      created_at  \n",
       "0          34           1088        64  69632  2018-07-06 18:02:28.000000 UTC  \n",
       "1          34           1088        64  69632  2018-08-27 17:07:31.000000 UTC  \n",
       "2          34           1088        64  69632  2018-09-28 14:50:06.000000 UTC  \n",
       "3          34           1088         4   4352  2018-09-17 16:21:23.000000 UTC  \n",
       "4          34           1088         4   4352  2018-10-31 18:20:07.000000 UTC  "
      ]
     },
     "execution_count": 3,
     "metadata": {},
     "output_type": "execute_result"
    }
   ],
   "source": [
    "ds = pd.read_csv('ecommerce_dataset.csv')\n",
    "ds.head()"
   ]
  },
  {
   "cell_type": "markdown",
   "metadata": {},
   "source": [
    "Show the last 5 rows of dataset"
   ]
  },
  {
   "cell_type": "code",
   "execution_count": 4,
   "metadata": {},
   "outputs": [
    {
     "data": {
      "text/html": [
       "<div>\n",
       "<style scoped>\n",
       "    .dataframe tbody tr th:only-of-type {\n",
       "        vertical-align: middle;\n",
       "    }\n",
       "\n",
       "    .dataframe tbody tr th {\n",
       "        vertical-align: top;\n",
       "    }\n",
       "\n",
       "    .dataframe thead th {\n",
       "        text-align: right;\n",
       "    }\n",
       "</style>\n",
       "<table border=\"1\" class=\"dataframe\">\n",
       "  <thead>\n",
       "    <tr style=\"text-align: right;\">\n",
       "      <th></th>\n",
       "      <th>transaction_id</th>\n",
       "      <th>store</th>\n",
       "      <th>customer_id</th>\n",
       "      <th>customer_city</th>\n",
       "      <th>customer_gender</th>\n",
       "      <th>product_id</th>\n",
       "      <th>product_price</th>\n",
       "      <th>quantity</th>\n",
       "      <th>total</th>\n",
       "      <th>created_at</th>\n",
       "    </tr>\n",
       "  </thead>\n",
       "  <tbody>\n",
       "    <tr>\n",
       "      <th>48568</th>\n",
       "      <td>463122</td>\n",
       "      <td>Online store</td>\n",
       "      <td>127691</td>\n",
       "      <td>Depok</td>\n",
       "      <td>Female</td>\n",
       "      <td>49</td>\n",
       "      <td>818</td>\n",
       "      <td>62</td>\n",
       "      <td>50716</td>\n",
       "      <td>2018-11-01 19:54:38.000000 UTC</td>\n",
       "    </tr>\n",
       "    <tr>\n",
       "      <th>48569</th>\n",
       "      <td>527161</td>\n",
       "      <td>Online store</td>\n",
       "      <td>160838</td>\n",
       "      <td>Depok</td>\n",
       "      <td>Female</td>\n",
       "      <td>49</td>\n",
       "      <td>818</td>\n",
       "      <td>62</td>\n",
       "      <td>50716</td>\n",
       "      <td>2018-11-15 07:24:45.000000 UTC</td>\n",
       "    </tr>\n",
       "    <tr>\n",
       "      <th>48570</th>\n",
       "      <td>775139</td>\n",
       "      <td>Online store</td>\n",
       "      <td>438662</td>\n",
       "      <td>Jakarta</td>\n",
       "      <td>Female</td>\n",
       "      <td>49</td>\n",
       "      <td>818</td>\n",
       "      <td>62</td>\n",
       "      <td>50716</td>\n",
       "      <td>2018-12-28 14:59:12.000000 UTC</td>\n",
       "    </tr>\n",
       "    <tr>\n",
       "      <th>48571</th>\n",
       "      <td>750554</td>\n",
       "      <td>Online store</td>\n",
       "      <td>285030</td>\n",
       "      <td>Depok</td>\n",
       "      <td>Male</td>\n",
       "      <td>49</td>\n",
       "      <td>818</td>\n",
       "      <td>62</td>\n",
       "      <td>50716</td>\n",
       "      <td>2018-12-18 08:52:34.000000 UTC</td>\n",
       "    </tr>\n",
       "    <tr>\n",
       "      <th>48572</th>\n",
       "      <td>638625</td>\n",
       "      <td>Online store</td>\n",
       "      <td>395567</td>\n",
       "      <td>Jakarta</td>\n",
       "      <td>Female</td>\n",
       "      <td>49</td>\n",
       "      <td>818</td>\n",
       "      <td>62</td>\n",
       "      <td>50716</td>\n",
       "      <td>2018-12-02 05:24:20.000000 UTC</td>\n",
       "    </tr>\n",
       "  </tbody>\n",
       "</table>\n",
       "</div>"
      ],
      "text/plain": [
       "       transaction_id         store  customer_id customer_city  \\\n",
       "48568          463122  Online store       127691         Depok   \n",
       "48569          527161  Online store       160838         Depok   \n",
       "48570          775139  Online store       438662       Jakarta   \n",
       "48571          750554  Online store       285030         Depok   \n",
       "48572          638625  Online store       395567       Jakarta   \n",
       "\n",
       "      customer_gender  product_id  product_price  quantity  total  \\\n",
       "48568          Female          49            818        62  50716   \n",
       "48569          Female          49            818        62  50716   \n",
       "48570          Female          49            818        62  50716   \n",
       "48571            Male          49            818        62  50716   \n",
       "48572          Female          49            818        62  50716   \n",
       "\n",
       "                           created_at  \n",
       "48568  2018-11-01 19:54:38.000000 UTC  \n",
       "48569  2018-11-15 07:24:45.000000 UTC  \n",
       "48570  2018-12-28 14:59:12.000000 UTC  \n",
       "48571  2018-12-18 08:52:34.000000 UTC  \n",
       "48572  2018-12-02 05:24:20.000000 UTC  "
      ]
     },
     "execution_count": 4,
     "metadata": {},
     "output_type": "execute_result"
    }
   ],
   "source": [
    "ds.tail()"
   ]
  },
  {
   "cell_type": "code",
   "execution_count": 4,
   "metadata": {},
   "outputs": [
    {
     "name": "stdout",
     "output_type": "stream",
     "text": [
      "<class 'pandas.core.frame.DataFrame'>\n",
      "RangeIndex: 48573 entries, 0 to 48572\n",
      "Data columns (total 10 columns):\n",
      " #   Column           Non-Null Count  Dtype \n",
      "---  ------           --------------  ----- \n",
      " 0   transaction_id   48573 non-null  int64 \n",
      " 1   store            48573 non-null  object\n",
      " 2   customer_id      48573 non-null  int64 \n",
      " 3   customer_city    48573 non-null  object\n",
      " 4   customer_gender  48573 non-null  object\n",
      " 5   product_id       48573 non-null  int64 \n",
      " 6   product_price    48573 non-null  int64 \n",
      " 7   quantity         48573 non-null  int64 \n",
      " 8   total            48573 non-null  int64 \n",
      " 9   created_at       48573 non-null  object\n",
      "dtypes: int64(6), object(4)\n",
      "memory usage: 3.7+ MB\n"
     ]
    }
   ],
   "source": [
    "ds.info()"
   ]
  },
  {
   "cell_type": "code",
   "execution_count": 5,
   "metadata": {},
   "outputs": [],
   "source": [
    "ds['created_at'] = pd.to_datetime(ds['created_at'])"
   ]
  },
  {
   "cell_type": "code",
   "execution_count": 6,
   "metadata": {},
   "outputs": [
    {
     "name": "stdout",
     "output_type": "stream",
     "text": [
      "<class 'pandas.core.frame.DataFrame'>\n",
      "RangeIndex: 48573 entries, 0 to 48572\n",
      "Data columns (total 10 columns):\n",
      " #   Column           Non-Null Count  Dtype              \n",
      "---  ------           --------------  -----              \n",
      " 0   transaction_id   48573 non-null  int64              \n",
      " 1   store            48573 non-null  object             \n",
      " 2   customer_id      48573 non-null  int64              \n",
      " 3   customer_city    48573 non-null  object             \n",
      " 4   customer_gender  48573 non-null  object             \n",
      " 5   product_id       48573 non-null  int64              \n",
      " 6   product_price    48573 non-null  int64              \n",
      " 7   quantity         48573 non-null  int64              \n",
      " 8   total            48573 non-null  int64              \n",
      " 9   created_at       48573 non-null  datetime64[ns, UTC]\n",
      "dtypes: datetime64[ns, UTC](1), int64(6), object(3)\n",
      "memory usage: 3.7+ MB\n"
     ]
    }
   ],
   "source": [
    "ds.info()"
   ]
  },
  {
   "cell_type": "code",
   "execution_count": 8,
   "metadata": {},
   "outputs": [
    {
     "data": {
      "text/plain": [
       "(48573, 10)"
      ]
     },
     "execution_count": 8,
     "metadata": {},
     "output_type": "execute_result"
    }
   ],
   "source": [
    "ds.shape"
   ]
  },
  {
   "cell_type": "code",
   "execution_count": 7,
   "metadata": {},
   "outputs": [
    {
     "data": {
      "text/plain": [
       "transaction_id     0\n",
       "store              0\n",
       "customer_id        0\n",
       "customer_city      0\n",
       "customer_gender    0\n",
       "product_id         0\n",
       "product_price      0\n",
       "quantity           0\n",
       "total              0\n",
       "created_at         0\n",
       "dtype: int64"
      ]
     },
     "execution_count": 7,
     "metadata": {},
     "output_type": "execute_result"
    }
   ],
   "source": [
    "ds.isnull().sum()"
   ]
  },
  {
   "cell_type": "code",
   "execution_count": 8,
   "metadata": {},
   "outputs": [
    {
     "data": {
      "text/html": [
       "<div>\n",
       "<style scoped>\n",
       "    .dataframe tbody tr th:only-of-type {\n",
       "        vertical-align: middle;\n",
       "    }\n",
       "\n",
       "    .dataframe tbody tr th {\n",
       "        vertical-align: top;\n",
       "    }\n",
       "\n",
       "    .dataframe thead th {\n",
       "        text-align: right;\n",
       "    }\n",
       "</style>\n",
       "<table border=\"1\" class=\"dataframe\">\n",
       "  <thead>\n",
       "    <tr style=\"text-align: right;\">\n",
       "      <th></th>\n",
       "      <th>transaction_id</th>\n",
       "      <th>store</th>\n",
       "      <th>customer_id</th>\n",
       "      <th>customer_city</th>\n",
       "      <th>customer_gender</th>\n",
       "      <th>product_id</th>\n",
       "      <th>product_price</th>\n",
       "      <th>quantity</th>\n",
       "      <th>total</th>\n",
       "      <th>created_at</th>\n",
       "    </tr>\n",
       "  </thead>\n",
       "  <tbody>\n",
       "    <tr>\n",
       "      <th>0</th>\n",
       "      <td>169483</td>\n",
       "      <td>Ofline store</td>\n",
       "      <td>300726</td>\n",
       "      <td>Jakarta</td>\n",
       "      <td>Male</td>\n",
       "      <td>34</td>\n",
       "      <td>1088</td>\n",
       "      <td>64</td>\n",
       "      <td>69632</td>\n",
       "      <td>2018-07-06 18:02:28+00:00</td>\n",
       "    </tr>\n",
       "    <tr>\n",
       "      <th>1</th>\n",
       "      <td>262286</td>\n",
       "      <td>Ofline store</td>\n",
       "      <td>186646</td>\n",
       "      <td>Tangerang</td>\n",
       "      <td>Male</td>\n",
       "      <td>34</td>\n",
       "      <td>1088</td>\n",
       "      <td>64</td>\n",
       "      <td>69632</td>\n",
       "      <td>2018-08-27 17:07:31+00:00</td>\n",
       "    </tr>\n",
       "    <tr>\n",
       "      <th>3</th>\n",
       "      <td>311059</td>\n",
       "      <td>Ofline store</td>\n",
       "      <td>190587</td>\n",
       "      <td>Depok</td>\n",
       "      <td>Male</td>\n",
       "      <td>34</td>\n",
       "      <td>1088</td>\n",
       "      <td>4</td>\n",
       "      <td>4352</td>\n",
       "      <td>2018-09-17 16:21:23+00:00</td>\n",
       "    </tr>\n",
       "    <tr>\n",
       "      <th>4</th>\n",
       "      <td>456382</td>\n",
       "      <td>Ofline store</td>\n",
       "      <td>314798</td>\n",
       "      <td>Depok</td>\n",
       "      <td>Male</td>\n",
       "      <td>34</td>\n",
       "      <td>1088</td>\n",
       "      <td>4</td>\n",
       "      <td>4352</td>\n",
       "      <td>2018-10-31 18:20:07+00:00</td>\n",
       "    </tr>\n",
       "    <tr>\n",
       "      <th>7</th>\n",
       "      <td>321799</td>\n",
       "      <td>Ofline store</td>\n",
       "      <td>141261</td>\n",
       "      <td>Depok</td>\n",
       "      <td>Male</td>\n",
       "      <td>39</td>\n",
       "      <td>1888</td>\n",
       "      <td>72</td>\n",
       "      <td>135936</td>\n",
       "      <td>2018-09-21 13:05:27+00:00</td>\n",
       "    </tr>\n",
       "    <tr>\n",
       "      <th>...</th>\n",
       "      <td>...</td>\n",
       "      <td>...</td>\n",
       "      <td>...</td>\n",
       "      <td>...</td>\n",
       "      <td>...</td>\n",
       "      <td>...</td>\n",
       "      <td>...</td>\n",
       "      <td>...</td>\n",
       "      <td>...</td>\n",
       "      <td>...</td>\n",
       "    </tr>\n",
       "    <tr>\n",
       "      <th>48563</th>\n",
       "      <td>440637</td>\n",
       "      <td>Online store</td>\n",
       "      <td>168345</td>\n",
       "      <td>Depok</td>\n",
       "      <td>Male</td>\n",
       "      <td>49</td>\n",
       "      <td>818</td>\n",
       "      <td>62</td>\n",
       "      <td>50716</td>\n",
       "      <td>2018-10-28 17:01:35+00:00</td>\n",
       "    </tr>\n",
       "    <tr>\n",
       "      <th>48565</th>\n",
       "      <td>755014</td>\n",
       "      <td>Online store</td>\n",
       "      <td>434618</td>\n",
       "      <td>Bogor</td>\n",
       "      <td>Male</td>\n",
       "      <td>49</td>\n",
       "      <td>818</td>\n",
       "      <td>62</td>\n",
       "      <td>50716</td>\n",
       "      <td>2018-12-20 07:15:10+00:00</td>\n",
       "    </tr>\n",
       "    <tr>\n",
       "      <th>48566</th>\n",
       "      <td>502922</td>\n",
       "      <td>Online store</td>\n",
       "      <td>145073</td>\n",
       "      <td>Jakarta</td>\n",
       "      <td>Male</td>\n",
       "      <td>49</td>\n",
       "      <td>818</td>\n",
       "      <td>62</td>\n",
       "      <td>50716</td>\n",
       "      <td>2018-11-09 19:24:41+00:00</td>\n",
       "    </tr>\n",
       "    <tr>\n",
       "      <th>48567</th>\n",
       "      <td>104282</td>\n",
       "      <td>Online store</td>\n",
       "      <td>231111</td>\n",
       "      <td>Depok</td>\n",
       "      <td>Male</td>\n",
       "      <td>49</td>\n",
       "      <td>818</td>\n",
       "      <td>62</td>\n",
       "      <td>50716</td>\n",
       "      <td>2018-05-20 01:30:00+00:00</td>\n",
       "    </tr>\n",
       "    <tr>\n",
       "      <th>48571</th>\n",
       "      <td>750554</td>\n",
       "      <td>Online store</td>\n",
       "      <td>285030</td>\n",
       "      <td>Depok</td>\n",
       "      <td>Male</td>\n",
       "      <td>49</td>\n",
       "      <td>818</td>\n",
       "      <td>62</td>\n",
       "      <td>50716</td>\n",
       "      <td>2018-12-18 08:52:34+00:00</td>\n",
       "    </tr>\n",
       "  </tbody>\n",
       "</table>\n",
       "<p>24134 rows × 10 columns</p>\n",
       "</div>"
      ],
      "text/plain": [
       "       transaction_id         store  customer_id customer_city  \\\n",
       "0              169483  Ofline store       300726       Jakarta   \n",
       "1              262286  Ofline store       186646     Tangerang   \n",
       "3              311059  Ofline store       190587         Depok   \n",
       "4              456382  Ofline store       314798         Depok   \n",
       "7              321799  Ofline store       141261         Depok   \n",
       "...               ...           ...          ...           ...   \n",
       "48563          440637  Online store       168345         Depok   \n",
       "48565          755014  Online store       434618         Bogor   \n",
       "48566          502922  Online store       145073       Jakarta   \n",
       "48567          104282  Online store       231111         Depok   \n",
       "48571          750554  Online store       285030         Depok   \n",
       "\n",
       "      customer_gender  product_id  product_price  quantity   total  \\\n",
       "0                Male          34           1088        64   69632   \n",
       "1                Male          34           1088        64   69632   \n",
       "3                Male          34           1088         4    4352   \n",
       "4                Male          34           1088         4    4352   \n",
       "7                Male          39           1888        72  135936   \n",
       "...               ...         ...            ...       ...     ...   \n",
       "48563            Male          49            818        62   50716   \n",
       "48565            Male          49            818        62   50716   \n",
       "48566            Male          49            818        62   50716   \n",
       "48567            Male          49            818        62   50716   \n",
       "48571            Male          49            818        62   50716   \n",
       "\n",
       "                     created_at  \n",
       "0     2018-07-06 18:02:28+00:00  \n",
       "1     2018-08-27 17:07:31+00:00  \n",
       "3     2018-09-17 16:21:23+00:00  \n",
       "4     2018-10-31 18:20:07+00:00  \n",
       "7     2018-09-21 13:05:27+00:00  \n",
       "...                         ...  \n",
       "48563 2018-10-28 17:01:35+00:00  \n",
       "48565 2018-12-20 07:15:10+00:00  \n",
       "48566 2018-11-09 19:24:41+00:00  \n",
       "48567 2018-05-20 01:30:00+00:00  \n",
       "48571 2018-12-18 08:52:34+00:00  \n",
       "\n",
       "[24134 rows x 10 columns]"
      ]
     },
     "execution_count": 8,
     "metadata": {},
     "output_type": "execute_result"
    }
   ],
   "source": [
    "ds_1 = ds[ds['customer_gender'].str.contains('Male')]\n",
    "ds_1"
   ]
  },
  {
   "cell_type": "code",
   "execution_count": 15,
   "metadata": {},
   "outputs": [
    {
     "data": {
      "text/plain": [
       "0    69632\n",
       "1    69632\n",
       "2    69632\n",
       "3     4352\n",
       "4     4352\n",
       "Name: total, dtype: int64"
      ]
     },
     "execution_count": 15,
     "metadata": {},
     "output_type": "execute_result"
    }
   ],
   "source": [
    "ds_2 = ds['customer_city']\n",
    "ds_2.head()\n",
    "\n",
    "ds_3 = ds['total']\n",
    "ds_3.head()"
   ]
  },
  {
   "cell_type": "markdown",
   "metadata": {},
   "source": [
    "**Visualization**"
   ]
  },
  {
   "cell_type": "code",
   "execution_count": 16,
   "metadata": {},
   "outputs": [
    {
     "data": {
      "image/png": "[encoded data removed]",
      "text/plain": [
       "<Figure size 640x480 with 1 Axes>"
      ]
     },
     "metadata": {},
     "output_type": "display_data"
    }
   ],
   "source": [
    "barViz = range(len(ds_2))\n",
    "plt.bar(ds_2, ds_3);"
   ]
  },
  {
   "cell_type": "code",
   "execution_count": 17,
   "metadata": {},
   "outputs": [
    {
     "data": {
      "image/png": "[encoded data removed]",
      "text/plain": [
       "<Figure size 640x480 with 1 Axes>"
      ]
     },
     "metadata": {},
     "output_type": "display_data"
    }
   ],
   "source": [
    "plt.bar(barViz, ds_3);"
   ]
  },
  {
   "cell_type": "code",
   "execution_count": null,
   "metadata": {},
   "outputs": [],
   "source": []
  }
 ],
 "metadata": {
  "kernelspec": {
   "display_name": "Python 3.10.8 ('env_toko')",
   "language": "python",
   "name": "python3"
  },
  "language_info": {
   "codemirror_mode": {
    "name": "ipython",
    "version": 3
   },
   "file_extension": ".py",
   "mimetype": "text/x-python",
   "name": "python",
   "nbconvert_exporter": "python",
   "pygments_lexer": "ipython3",
   "version": "3.10.8"
  },
  "orig_nbformat": 4,
  "vscode": {
   "interpreter": {
    "hash": "85546029fe3a5b84b7733be015906c4423ef12eb1850a0ca03d76e58f3dd6373"
   }
  }
 },
 "nbformat": 4,
 "nbformat_minor": 2
}
