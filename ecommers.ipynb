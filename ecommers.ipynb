{
 "cells": [
  {
   "cell_type": "code",
   "execution_count": 1,
   "metadata": {},
   "outputs": [
    {
     "name": "stdout",
     "output_type": "stream",
     "text": [
      "Python 3.10.8\n"
     ]
    }
   ],
   "source": [
    "!python --version"
   ]
  },
  {
   "cell_type": "code",
   "execution_count": 1,
   "metadata": {},
   "outputs": [
    {
     "name": "stdout",
     "output_type": "stream",
     "text": [
      "\n",
      "     active environment : env_toko\n",
      "    active env location : C:\\Users\\ASUS\\anaconda3\\envs\\env_toko\n",
      "            shell level : 1\n",
      "       user config file : C:\\Users\\ASUS\\.condarc\n",
      " populated config files : C:\\Users\\ASUS\\.condarc\n",
      "          conda version : 22.9.0\n",
      "    conda-build version : 3.22.0\n",
      "         python version : 3.9.13.final.0\n",
      "       virtual packages : __win=0=0\n",
      "                          __archspec=1=x86_64\n",
      "       base environment : C:\\Users\\ASUS\\anaconda3  (writable)\n",
      "      conda av data dir : C:\\Users\\ASUS\\anaconda3\\etc\\conda\n",
      "  conda av metadata url : None\n",
      "           channel URLs : https://repo.anaconda.com/pkgs/main/win-64\n",
      "                          https://repo.anaconda.com/pkgs/main/noarch\n",
      "                          https://repo.anaconda.com/pkgs/r/win-64\n",
      "                          https://repo.anaconda.com/pkgs/r/noarch\n",
      "                          https://repo.anaconda.com/pkgs/msys2/win-64\n",
      "                          https://repo.anaconda.com/pkgs/msys2/noarch\n",
      "          package cache : C:\\Users\\ASUS\\anaconda3\\pkgs\n",
      "                          C:\\Users\\ASUS\\.conda\\pkgs\n",
      "                          C:\\Users\\ASUS\\AppData\\Local\\conda\\conda\\pkgs\n",
      "       envs directories : C:\\Users\\ASUS\\anaconda3\\envs\n",
      "                          C:\\Users\\ASUS\\.conda\\envs\n",
      "                          C:\\Users\\ASUS\\AppData\\Local\\conda\\conda\\envs\n",
      "               platform : win-64\n",
      "             user-agent : conda/22.9.0 requests/2.28.1 CPython/3.9.13 Windows/10 Windows/10.0.17134\n",
      "          administrator : False\n",
      "             netrc file : None\n",
      "           offline mode : False\n",
      "\n"
     ]
    }
   ],
   "source": [
    "!conda info"
   ]
  },
  {
   "cell_type": "code",
   "execution_count": null,
   "metadata": {},
   "outputs": [],
   "source": []
  }
 ],
 "metadata": {
  "kernelspec": {
   "display_name": "Python 3.10.8 ('env_toko')",
   "language": "python",
   "name": "python3"
  },
  "language_info": {
   "codemirror_mode": {
    "name": "ipython",
    "version": 3
   },
   "file_extension": ".py",
   "mimetype": "text/x-python",
   "name": "python",
   "nbconvert_exporter": "python",
   "pygments_lexer": "ipython3",
   "version": "3.10.8"
  },
  "orig_nbformat": 4,
  "vscode": {
   "interpreter": {
    "hash": "85546029fe3a5b84b7733be015906c4423ef12eb1850a0ca03d76e58f3dd6373"
   }
  }
 },
 "nbformat": 4,
 "nbformat_minor": 2
}
